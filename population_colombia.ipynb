{
 "cells": [
  {
   "cell_type": "markdown",
   "metadata": {},
   "source": [
    "## Pobalción Colombia 1984 - 2019\n",
    "\n",
    "Las herramientas de recolección de infomración en Colombia estan en manos del Departamento Administrativo Nacional de Estadística -DANE-, entidad que nace en el año 1951 por medio del Decreto 2240, inicialmente como Dirección Nacional de Estadística y para el año 1953 y bajo el Decreto 2263 adquiere el nombre que se mantiene hasta el día de hoy.\n",
    "\n",
    "Así, la función principal del DANE es \"Producir y difundir información estadística oficial, como bien público, con altos estándares de calidad y rigor técnico para la toma de decisiones a nivel nacional y territorial, que contribuyan a la consolidación de un Estado con justicia social, económica y ambiental.\" (Fuente: DANE).\n",
    "\n",
    "El presente proyecto busca hacer una interpretación de la infomración censal de Colombia durante las últimas dos decadas de información disponible para consulta, esto con el fin de entender la movilización social el interior del territorio colombiano."
   ]
  },
  {
   "cell_type": "markdown",
   "metadata": {},
   "source": [
    "## Descripción del proyecto\n",
    "\n",
    "El presente proyecto tiene como objetivo hacer un análisis descriptivo de la infomración poblacional por parte del DANE, de esta manera se disponen los siguientes pasos:\n",
    "\n",
    "    1. Descripción, limpieza y unificación de los datos.\n",
    "    2. Descripción general de la información disponible.\n",
    "    3. Visualización de datos.\n",
    "    4. Conclusiones."
   ]
  },
  {
   "cell_type": "markdown",
   "metadata": {},
   "source": [
    "### 1. Sobre los datos.\n",
    "\n",
    "La fuente de infomración provee la siguientes bases:\n",
    "\n",
    "Población, Fuente DANE: https://www.dane.gov.co/index.php/estadisticas-por-tema/demografia-y-poblacion/proyecciones-de-poblacion\n",
    "\n",
    "        1. DCD-area-proypoblacion-Mun-1985-1994\n",
    "        2. DCD-area-proypoblacion-Mun-1995-2004\n",
    "        3. DCD-area-proypoblacion-Mun-2005-2019\n",
    "        4. DCD-area-sexo-edad-proypoblacion-Mun-1985-1994\n",
    "        5. DCD-area-sexo-edad-proypoblacion-Mun-1995-2004\n",
    "        6. DCD-area-sexo-edad-proypoblacion-Mun-2005-2019\n",
    "\n",
    "La infomración proviene en base CSV y se trabjará con los datos más completos de información disponible en este proyecto."
   ]
  },
  {
   "cell_type": "code",
   "execution_count": 1,
   "metadata": {},
   "outputs": [
    {
     "name": "stderr",
     "output_type": "stream",
     "text": [
      "/Users/daab/Library/Python/3.9/lib/python/site-packages/urllib3/__init__.py:34: NotOpenSSLWarning:\n",
      "\n",
      "urllib3 v2 only supports OpenSSL 1.1.1+, currently the 'ssl' module is compiled with 'LibreSSL 2.8.3'. See: https://github.com/urllib3/urllib3/issues/3020\n",
      "\n"
     ]
    },
    {
     "data": {
      "text/html": [
       "        <script type=\"text/javascript\">\n",
       "        window.PlotlyConfig = {MathJaxConfig: 'local'};\n",
       "        if (window.MathJax && window.MathJax.Hub && window.MathJax.Hub.Config) {window.MathJax.Hub.Config({SVG: {font: \"STIX-Web\"}});}\n",
       "        if (typeof require !== 'undefined') {\n",
       "        require.undef(\"plotly\");\n",
       "        requirejs.config({\n",
       "            paths: {\n",
       "                'plotly': ['https://cdn.plot.ly/plotly-2.29.1.min']\n",
       "            }\n",
       "        });\n",
       "        require(['plotly'], function(Plotly) {\n",
       "            window._Plotly = Plotly;\n",
       "        });\n",
       "        }\n",
       "        </script>\n",
       "        "
      ]
     },
     "metadata": {},
     "output_type": "display_data"
    }
   ],
   "source": [
    "import os\n",
    "import pandas as pd\n",
    "import numpy as np\n",
    "import plotly.offline as py\n",
    "import plotly.graph_objs as go\n",
    "import plotly.offline as py_offline\n",
    "import plotly.express as px\n",
    "from dash import Dash, html, dcc, callback, Output, Input\n",
    "\n",
    "# Configurar el modo offline\n",
    "py.init_notebook_mode(connected=True) "
   ]
  },
  {
   "cell_type": "code",
   "execution_count": 2,
   "metadata": {},
   "outputs": [
    {
     "name": "stdout",
     "output_type": "stream",
     "text": [
      "        DP      DPNOM   DPMP      MPIO   AÑO  \\\n",
      "0        5  Antioquia   5001  Medellín  1985   \n",
      "1        5  Antioquia   5001  Medellín  1985   \n",
      "2        5  Antioquia   5001  Medellín  1985   \n",
      "3        5  Antioquia   5001  Medellín  1986   \n",
      "4        5  Antioquia   5001  Medellín  1986   \n",
      "...     ..        ...    ...       ...   ...   \n",
      "117805  99    Vichada  99773  Cumaribo  2003   \n",
      "117806  99    Vichada  99773  Cumaribo  2003   \n",
      "117807  99    Vichada  99773  Cumaribo  2004   \n",
      "117808  99    Vichada  99773  Cumaribo  2004   \n",
      "117809  99    Vichada  99773  Cumaribo  2004   \n",
      "\n",
      "                          ÁREA GEOGRÁFICA  Hombres_0  Hombres_1  Hombres_2  \\\n",
      "0                      Cabecera Municipal      13945      13868      13854   \n",
      "1       Centros Poblados y Rural Disperso        689        685        679   \n",
      "2                                   Total      14634      14553      14533   \n",
      "3                      Cabecera Municipal      14101      13951      13934   \n",
      "4       Centros Poblados y Rural Disperso        684        676        669   \n",
      "...                                   ...        ...        ...        ...   \n",
      "117805  Centros Poblados y Rural Disperso        952        915        892   \n",
      "117806                              Total        984        948        924   \n",
      "117807                 Cabecera Municipal         32         33         33   \n",
      "117808  Centros Poblados y Rural Disperso        972        938        916   \n",
      "117809                              Total       1004        971        949   \n",
      "\n",
      "        Hombres_3  ...  Total_79  Total_80  Total_81  Total_82  Total_83  \\\n",
      "0           13822  ...      1870      1764      1681      1592      1508   \n",
      "1             668  ...        68        63        59        55        51   \n",
      "2           14490  ...      1938      1827      1740      1647      1559   \n",
      "3           13953  ...      1804      1732      1621      1527      1439   \n",
      "4             661  ...        65        63        57        55        50   \n",
      "...           ...  ...       ...       ...       ...       ...       ...   \n",
      "117805        859  ...        22        27        23        20        21   \n",
      "117806        889  ...        26        31        27        23        23   \n",
      "117807         31  ...         4         4         4         4         3   \n",
      "117808        895  ...        29        20        23        23        18   \n",
      "117809        926  ...        33        24        27        27        21   \n",
      "\n",
      "        Total_84  Total_85 y más  Total Hombres  Total Mujeres  Total General  \n",
      "0           1417           11750         664721         729143        1393864  \n",
      "1             47             391          27773          28540          56313  \n",
      "2           1464           12141         692494         757683        1450177  \n",
      "3           1345           10771         675600         746145        1421745  \n",
      "4             46             377          27669          28554          56223  \n",
      "...          ...             ...            ...            ...            ...  \n",
      "117805        17             125          23362          18353          41715  \n",
      "117806        21             140          24449          19399          43848  \n",
      "117807         4              18           1121           1098           2219  \n",
      "117808        19             126          24266          19142          43408  \n",
      "117809        23             144          25387          20240          45627  \n",
      "\n",
      "[117810 rows x 267 columns]\n"
     ]
    }
   ],
   "source": [
    "# ubicación de la carpeta que contiene los archivos Excel\n",
    "carpeta = '/Users/daab/Desktop/DANE/Detalle poblacion'\n",
    "\n",
    "# Lista todos los archivos en la carpeta\n",
    "archivos = os.listdir(carpeta)\n",
    "\n",
    "# Lista donde almacenaremos los datos de los archivos Excel\n",
    "datos_excel = []\n",
    "\n",
    "# Itera sobre los archivos en la carpeta\n",
    "for archivo in archivos:\n",
    "    # Verifica si el archivo es un archivo Excel\n",
    "    if archivo.endswith('.xlsx') or archivo.endswith('.xls'):\n",
    "        # Crea la ruta completa al archivo\n",
    "        ruta_completa = os.path.join(carpeta, archivo)\n",
    "        # Lee el archivo Excel y almacena los datos en un DataFrame de pandas\n",
    "        datos_excel.append(pd.read_excel(ruta_completa))\n",
    "\n",
    "# Concatena todos los DataFrames en uno solo\n",
    "datos_completos = pd.concat(datos_excel, ignore_index=True)\n",
    "\n",
    "# Ahora puedes trabajar con los datos completos como desees\n",
    "print(datos_completos)"
   ]
  },
  {
   "cell_type": "code",
   "execution_count": 3,
   "metadata": {},
   "outputs": [],
   "source": [
    "# Resumen estadístico de los datos en datos_completos\n",
    "descripcion_datos = datos_completos.describe()"
   ]
  },
  {
   "cell_type": "code",
   "execution_count": 4,
   "metadata": {},
   "outputs": [
    {
     "name": "stdout",
     "output_type": "stream",
     "text": [
      "   DP      DPNOM  DPMP      MPIO   AÑO                    ÁREA GEOGRÁFICA  \\\n",
      "0   5  Antioquia  5001  Medellín  1985                 Cabecera Municipal   \n",
      "1   5  Antioquia  5001  Medellín  1985  Centros Poblados y Rural Disperso   \n",
      "2   5  Antioquia  5001  Medellín  1985                              Total   \n",
      "3   5  Antioquia  5001  Medellín  1986                 Cabecera Municipal   \n",
      "4   5  Antioquia  5001  Medellín  1986  Centros Poblados y Rural Disperso   \n",
      "\n",
      "   Hombres_0  Hombres_1  Hombres_2  Hombres_3  ...  Total_79  Total_80  \\\n",
      "0      13945      13868      13854      13822  ...      1870      1764   \n",
      "1        689        685        679        668  ...        68        63   \n",
      "2      14634      14553      14533      14490  ...      1938      1827   \n",
      "3      14101      13951      13934      13953  ...      1804      1732   \n",
      "4        684        676        669        661  ...        65        63   \n",
      "\n",
      "   Total_81  Total_82  Total_83  Total_84  Total_85 y más  Total Hombres  \\\n",
      "0      1681      1592      1508      1417           11750         664721   \n",
      "1        59        55        51        47             391          27773   \n",
      "2      1740      1647      1559      1464           12141         692494   \n",
      "3      1621      1527      1439      1345           10771         675600   \n",
      "4        57        55        50        46             377          27669   \n",
      "\n",
      "   Total Mujeres  Total General  \n",
      "0         729143        1393864  \n",
      "1          28540          56313  \n",
      "2         757683        1450177  \n",
      "3         746145        1421745  \n",
      "4          28554          56223  \n",
      "\n",
      "[5 rows x 267 columns]\n"
     ]
    }
   ],
   "source": [
    "# 1. Exploración inicial de los datos\n",
    "print(datos_completos.head())"
   ]
  },
  {
   "cell_type": "code",
   "execution_count": 5,
   "metadata": {},
   "outputs": [
    {
     "name": "stdout",
     "output_type": "stream",
     "text": [
      "Dimensiones de los datos: (117810, 267)\n"
     ]
    }
   ],
   "source": [
    "# 2. Entender las dimensiones de los datos\n",
    "print(\"Dimensiones de los datos:\", datos_completos.shape)"
   ]
  },
  {
   "cell_type": "code",
   "execution_count": 6,
   "metadata": {},
   "outputs": [
    {
     "name": "stdout",
     "output_type": "stream",
     "text": [
      "Nombres de las columnas: Index(['DP', 'DPNOM', 'DPMP', 'MPIO', 'AÑO', 'ÁREA GEOGRÁFICA', 'Hombres_0',\n",
      "       'Hombres_1', 'Hombres_2', 'Hombres_3',\n",
      "       ...\n",
      "       'Total_79', 'Total_80', 'Total_81', 'Total_82', 'Total_83', 'Total_84',\n",
      "       'Total_85 y más', 'Total Hombres', 'Total Mujeres', 'Total General'],\n",
      "      dtype='object', length=267)\n"
     ]
    }
   ],
   "source": [
    "# 3. Explorar las columnas\n",
    "print(\"Nombres de las columnas:\", datos_completos.columns)"
   ]
  },
  {
   "cell_type": "code",
   "execution_count": 7,
   "metadata": {},
   "outputs": [
    {
     "name": "stdout",
     "output_type": "stream",
     "text": [
      "Tipos de datos de las columnas:\n",
      " DP                 int64\n",
      "DPNOM             object\n",
      "DPMP               int64\n",
      "MPIO              object\n",
      "AÑO                int64\n",
      "                   ...  \n",
      "Total_84           int64\n",
      "Total_85 y más     int64\n",
      "Total Hombres      int64\n",
      "Total Mujeres      int64\n",
      "Total General      int64\n",
      "Length: 267, dtype: object\n"
     ]
    }
   ],
   "source": [
    "# 4. Verificar tipos de datos\n",
    "print(\"Tipos de datos de las columnas:\\n\", datos_completos.dtypes)"
   ]
  },
  {
   "cell_type": "code",
   "execution_count": 8,
   "metadata": {},
   "outputs": [
    {
     "name": "stdout",
     "output_type": "stream",
     "text": [
      "Valores únicos en cada columna:\n",
      " DP                   33\n",
      "DPNOM                33\n",
      "DPMP               1122\n",
      "MPIO               1040\n",
      "AÑO                  35\n",
      "                  ...  \n",
      "Total_84            972\n",
      "Total_85 y más     2423\n",
      "Total Hombres     24527\n",
      "Total Mujeres     24426\n",
      "Total General     35727\n",
      "Length: 267, dtype: int64\n"
     ]
    }
   ],
   "source": [
    "# 5. Explorar valores únicos\n",
    "print(\"Valores únicos en cada columna:\\n\", datos_completos.nunique())"
   ]
  },
  {
   "cell_type": "code",
   "execution_count": 9,
   "metadata": {},
   "outputs": [
    {
     "name": "stdout",
     "output_type": "stream",
     "text": [
      "Valores nulos en cada columna:\n",
      " DP                0\n",
      "DPNOM             0\n",
      "DPMP              0\n",
      "MPIO              0\n",
      "AÑO               0\n",
      "                 ..\n",
      "Total_84          0\n",
      "Total_85 y más    0\n",
      "Total Hombres     0\n",
      "Total Mujeres     0\n",
      "Total General     0\n",
      "Length: 267, dtype: int64\n"
     ]
    }
   ],
   "source": [
    "# 6. Manejo de valores nulos o faltantes\n",
    "print(\"Valores nulos en cada columna:\\n\", datos_completos.isnull().sum())"
   ]
  },
  {
   "cell_type": "code",
   "execution_count": 10,
   "metadata": {},
   "outputs": [
    {
     "name": "stdout",
     "output_type": "stream",
     "text": [
      "Estadísticas descriptivas:\n",
      "                   DP           DPMP            AÑO      Hombres_0  \\\n",
      "count  117810.000000  117810.000000  117810.000000  117810.000000   \n",
      "mean       38.282531   38716.410873    2002.000000     244.743383   \n",
      "std        26.576533   26563.172507      10.099548    1667.019654   \n",
      "min         5.000000    5001.000000    1985.000000       0.000000   \n",
      "25%        15.000000   15676.000000    1993.000000      31.000000   \n",
      "50%        25.000000   25840.000000    2002.000000      78.000000   \n",
      "75%        66.000000   66572.000000    2011.000000     179.000000   \n",
      "max        99.000000   99773.000000    2019.000000   74878.000000   \n",
      "\n",
      "           Hombres_1      Hombres_2      Hombres_3      Hombres_4  \\\n",
      "count  117810.000000  117810.000000  117810.000000  117810.000000   \n",
      "mean      243.932009     243.505424     243.172142     242.787013   \n",
      "std      1660.186384    1655.253463    1650.885151    1646.377229   \n",
      "min         0.000000       0.000000       0.000000       0.000000   \n",
      "25%        31.000000      31.000000      32.000000      32.000000   \n",
      "50%        78.000000      78.000000      78.000000      78.000000   \n",
      "75%       177.000000     176.000000     175.000000     173.000000   \n",
      "max     74433.000000   74068.000000   73719.000000   73354.000000   \n",
      "\n",
      "           Hombres_5      Hombres_6  ...       Total_79       Total_80  \\\n",
      "count  117810.000000  117810.000000  ...  117810.000000  117810.000000   \n",
      "mean      242.281063     241.611306  ...      44.203497      40.182378   \n",
      "std      1641.127620    1635.042099  ...     303.217599     275.205983   \n",
      "min         0.000000       0.000000  ...       0.000000       0.000000   \n",
      "25%        32.000000      32.000000  ...       6.000000       6.000000   \n",
      "50%        78.000000      78.000000  ...      15.000000      13.000000   \n",
      "75%       172.000000     171.000000  ...      30.000000      27.000000   \n",
      "max     72957.000000   72527.000000  ...   18243.000000   16438.000000   \n",
      "\n",
      "            Total_81       Total_82       Total_83       Total_84  \\\n",
      "count  117810.000000  117810.000000  117810.000000  117810.000000   \n",
      "mean       36.361769      32.723232      29.298073      26.074425   \n",
      "std       248.879657     224.093980     200.697945     178.690375   \n",
      "min         0.000000       0.000000       0.000000       0.000000   \n",
      "25%         5.000000       5.000000       4.000000       4.000000   \n",
      "50%        12.000000      11.000000      10.000000       9.000000   \n",
      "75%        25.000000      22.000000      20.000000      18.000000   \n",
      "max     14775.000000   13249.000000   11843.000000   10554.000000   \n",
      "\n",
      "       Total_85 y más  Total Hombres  Total Mujeres  Total General  \n",
      "count   117810.000000   1.178100e+05   1.178100e+05   1.178100e+05  \n",
      "mean       152.109617   1.163258e+04   1.203848e+04   2.367106e+04  \n",
      "std       1049.176096   8.338909e+04   8.955102e+04   1.729147e+05  \n",
      "min          0.000000   0.000000e+00   0.000000e+00   0.000000e+00  \n",
      "25%         20.000000   1.573000e+03   1.516250e+03   3.092000e+03  \n",
      "50%         51.000000   3.621000e+03   3.461000e+03   7.080000e+03  \n",
      "75%        106.000000   7.603000e+03   7.329000e+03   1.494275e+04  \n",
      "max      66886.000000   3.633389e+06   3.959482e+06   7.592871e+06  \n",
      "\n",
      "[8 rows x 264 columns]\n"
     ]
    }
   ],
   "source": [
    "# 7. Exploración estadística básica\n",
    "print(\"Estadísticas descriptivas:\\n\", datos_completos.describe())"
   ]
  },
  {
   "cell_type": "code",
   "execution_count": 11,
   "metadata": {},
   "outputs": [],
   "source": [
    "#Creación de grupos etareos\n",
    "gpetareoh = {'HoPrimera_infancia': ['Hombres_0','Hombres_1','Hombres_2','Hombres_3','Hombres_4','Hombres_5'],\n",
    "          'HoInfancia': ['Hombres_6','Hombres_7','Hombres_8','Hombres_9','Hombres_10','Hombres_11'],\n",
    "          'HoAdolescencia': ['Hombres_12','Hombres_13','Hombres_14','Hombres_15','Hombres_16','Hombres_17','Hombres_18'],\n",
    "          'HoJuventud': ['Hombres_19','Hombres_20','Hombres_21','Hombres_22','Hombres_23','Hombres_24','Hombres_25','Hombres_26'],\n",
    "          'HoAdultez': ['Hombres_27','Hombres_28','Hombres_29','Hombres_30','Hombres_31','Hombres_32','Hombres_33','Hombres_34','Hombres_35','Hombres_36','Hombres_37','Hombres_38','Hombres_39','Hombres_40','Hombres_41','Hombres_42','Hombres_43','Hombres_44','Hombres_45','Hombres_46','Hombres_47','Hombres_48','Hombres_49','Hombres_50','Hombres_51','Hombres_52','Hombres_53','Hombres_54','Hombres_55','Hombres_56','Hombres_57','Hombres_58','Hombres_59'],\n",
    "          'HoPersona Mayor': ['Hombres_60','Hombres_61','Hombres_62','Hombres_63','Hombres_64','Hombres_65','Hombres_66','Hombres_67','Hombres_68','Hombres_69','Hombres_70','Hombres_71','Hombres_72','Hombres_73','Hombres_74','Hombres_75','Hombres_76','Hombres_77','Hombres_78','Hombres_79','Hombres_80','Hombres_81','Hombres_82','Hombres_83','Hombres_84','Hombres_85 y más']}\n",
    "gpetareom = {'MuPrimera_infancia': ['Mujeres_0','Mujeres_1','Mujeres_2','Mujeres_3','Mujeres_4','Mujeres_5'],\n",
    "          'MuInfancia': ['Mujeres_6','Mujeres_7','Mujeres_8','Mujeres_9','Mujeres_10','Mujeres_11'],\n",
    "          'MuAdolescencia': ['Mujeres_12','Mujeres_13','Mujeres_14','Mujeres_15','Mujeres_16','Mujeres_17','Mujeres_18'],\n",
    "          'MuJuventud': ['Mujeres_19','Mujeres_20','Mujeres_21','Mujeres_22','Mujeres_23','Mujeres_24','Mujeres_25','Mujeres_26'],\n",
    "          'MuAdultez': ['Mujeres_27','Mujeres_28','Mujeres_29','Mujeres_30','Mujeres_31','Mujeres_32','Mujeres_33','Mujeres_34','Mujeres_35','Mujeres_36','Mujeres_37','Mujeres_38','Mujeres_39','Mujeres_40','Mujeres_41','Mujeres_42','Mujeres_43','Mujeres_44','Mujeres_45','Mujeres_46','Mujeres_47','Mujeres_48','Mujeres_49','Mujeres_50','Mujeres_51','Mujeres_52','Mujeres_53','Mujeres_54','Mujeres_55','Mujeres_56','Mujeres_57','Mujeres_58','Mujeres_59'],\n",
    "          'MuPersona Mayor': ['Mujeres_60','Mujeres_61','Mujeres_62','Mujeres_63','Mujeres_64','Mujeres_65','Mujeres_66','Mujeres_67','Mujeres_68','Mujeres_69','Mujeres_70','Mujeres_71','Mujeres_72','Mujeres_73','Mujeres_74','Mujeres_75','Mujeres_76','Mujeres_77','Mujeres_78','Mujeres_79','Mujeres_80','Mujeres_81','Mujeres_82','Mujeres_83','Mujeres_84','Mujeres_85 y más']}\n",
    "gpetareot = {'ToPrimera_infancia': ['Total_0','Total_1','Total_2','Total_3','Total_4','Total_5'],\n",
    "          'ToInfancia': ['Total_6','Total_7','Total_8','Total_9','Total_10','Total_11'],\n",
    "          'ToAdolescencia': ['Total_12','Total_13','Total_14','Total_15','Total_16','Total_17','Total_18'],\n",
    "          'ToJuventud': ['Total_19','Total_20','Total_21','Total_22','Total_23','Total_24','Total_25','Total_26'],\n",
    "          'ToAdultez': ['Total_27','Total_28','Total_29','Total_30','Total_31','Total_32','Total_33','Total_34','Total_35','Total_36','Total_37','Total_38','Total_39','Total_40','Total_41','Total_42','Total_43','Total_44','Total_45','Total_46','Total_47','Total_48','Total_49','Total_50','Total_51','Total_52','Total_53','Total_54','Total_55','Total_56','Total_57','Total_58','Total_59'],\n",
    "          'ToPersona Mayor': ['Total_60','Total_61','Total_62','Total_63','Total_64','Total_65','Total_66','Total_67','Total_68','Total_69','Total_70','Total_71','Total_72','Total_73','Total_74','Total_75','Total_76','Total_77','Total_78','Total_79','Total_80','Total_81','Total_82','Total_83','Total_84','Total_85 y más']}\n",
    "nuevas_columnas = ['DP', 'DPNOM', 'DPMP', 'MPIO', 'AÑO', 'ÁREA GEOGRÁFICA','Total Hombres', 'Total Mujeres', 'Total General']\n"
   ]
  },
  {
   "cell_type": "code",
   "execution_count": 12,
   "metadata": {},
   "outputs": [],
   "source": [
    "#Grupos etareos Hombres\n",
    "for grupo, columnas in gpetareoh.items():\n",
    "    datos_completos[grupo] = datos_completos[columnas].sum(axis=1)\n",
    "    nuevas_columnas.append(grupo)\n",
    "    #Grupos etareos Mujeres\n",
    "for grupo, columnas in gpetareom.items():\n",
    "    datos_completos[grupo] = datos_completos[columnas].sum(axis=1)\n",
    "    nuevas_columnas.append(grupo)\n",
    "    #Grupos etareos Total\n",
    "for grupo, columnas in gpetareot.items():\n",
    "    datos_completos[grupo] = datos_completos[columnas].sum(axis=1)\n",
    "    nuevas_columnas.append(grupo)"
   ]
  },
  {
   "cell_type": "code",
   "execution_count": 13,
   "metadata": {},
   "outputs": [],
   "source": [
    "#Columnas a eliminar\n",
    "columnas_a_eliminar = [col for col in datos_completos if col not in nuevas_columnas]"
   ]
  },
  {
   "cell_type": "code",
   "execution_count": 14,
   "metadata": {},
   "outputs": [],
   "source": [
    "# Luego, eliminamos esas columnas del DataFrame\n",
    "datos_completos.drop(columns=columnas_a_eliminar, inplace=True)"
   ]
  },
  {
   "cell_type": "code",
   "execution_count": 15,
   "metadata": {},
   "outputs": [
    {
     "data": {
      "text/html": [
       "<div>\n",
       "<style scoped>\n",
       "    .dataframe tbody tr th:only-of-type {\n",
       "        vertical-align: middle;\n",
       "    }\n",
       "\n",
       "    .dataframe tbody tr th {\n",
       "        vertical-align: top;\n",
       "    }\n",
       "\n",
       "    .dataframe thead th {\n",
       "        text-align: right;\n",
       "    }\n",
       "</style>\n",
       "<table border=\"1\" class=\"dataframe\">\n",
       "  <thead>\n",
       "    <tr style=\"text-align: right;\">\n",
       "      <th></th>\n",
       "      <th>DP</th>\n",
       "      <th>DPNOM</th>\n",
       "      <th>DPMP</th>\n",
       "      <th>MPIO</th>\n",
       "      <th>AÑO</th>\n",
       "      <th>ÁREA GEOGRÁFICA</th>\n",
       "      <th>Total Hombres</th>\n",
       "      <th>Total Mujeres</th>\n",
       "      <th>Total General</th>\n",
       "      <th>HoPrimera_infancia</th>\n",
       "      <th>...</th>\n",
       "      <th>MuAdolescencia</th>\n",
       "      <th>MuJuventud</th>\n",
       "      <th>MuAdultez</th>\n",
       "      <th>MuPersona Mayor</th>\n",
       "      <th>ToPrimera_infancia</th>\n",
       "      <th>ToInfancia</th>\n",
       "      <th>ToAdolescencia</th>\n",
       "      <th>ToJuventud</th>\n",
       "      <th>ToAdultez</th>\n",
       "      <th>ToPersona Mayor</th>\n",
       "    </tr>\n",
       "  </thead>\n",
       "  <tbody>\n",
       "    <tr>\n",
       "      <th>0</th>\n",
       "      <td>5</td>\n",
       "      <td>Antioquia</td>\n",
       "      <td>5001</td>\n",
       "      <td>Medellín</td>\n",
       "      <td>1985</td>\n",
       "      <td>Cabecera Municipal</td>\n",
       "      <td>664721</td>\n",
       "      <td>729143</td>\n",
       "      <td>1393864</td>\n",
       "      <td>82621</td>\n",
       "      <td>...</td>\n",
       "      <td>103934</td>\n",
       "      <td>135934</td>\n",
       "      <td>267197</td>\n",
       "      <td>55788</td>\n",
       "      <td>169451</td>\n",
       "      <td>153434</td>\n",
       "      <td>199805</td>\n",
       "      <td>260460</td>\n",
       "      <td>510030</td>\n",
       "      <td>100684</td>\n",
       "    </tr>\n",
       "    <tr>\n",
       "      <th>1</th>\n",
       "      <td>5</td>\n",
       "      <td>Antioquia</td>\n",
       "      <td>5001</td>\n",
       "      <td>Medellín</td>\n",
       "      <td>1985</td>\n",
       "      <td>Centros Poblados y Rural Disperso</td>\n",
       "      <td>27773</td>\n",
       "      <td>28540</td>\n",
       "      <td>56313</td>\n",
       "      <td>3984</td>\n",
       "      <td>...</td>\n",
       "      <td>4338</td>\n",
       "      <td>5214</td>\n",
       "      <td>9775</td>\n",
       "      <td>1705</td>\n",
       "      <td>8182</td>\n",
       "      <td>6451</td>\n",
       "      <td>8388</td>\n",
       "      <td>10050</td>\n",
       "      <td>19633</td>\n",
       "      <td>3609</td>\n",
       "    </tr>\n",
       "    <tr>\n",
       "      <th>2</th>\n",
       "      <td>5</td>\n",
       "      <td>Antioquia</td>\n",
       "      <td>5001</td>\n",
       "      <td>Medellín</td>\n",
       "      <td>1985</td>\n",
       "      <td>Total</td>\n",
       "      <td>692494</td>\n",
       "      <td>757683</td>\n",
       "      <td>1450177</td>\n",
       "      <td>86605</td>\n",
       "      <td>...</td>\n",
       "      <td>108272</td>\n",
       "      <td>141148</td>\n",
       "      <td>276972</td>\n",
       "      <td>57493</td>\n",
       "      <td>177633</td>\n",
       "      <td>159885</td>\n",
       "      <td>208193</td>\n",
       "      <td>270510</td>\n",
       "      <td>529663</td>\n",
       "      <td>104293</td>\n",
       "    </tr>\n",
       "    <tr>\n",
       "      <th>3</th>\n",
       "      <td>5</td>\n",
       "      <td>Antioquia</td>\n",
       "      <td>5001</td>\n",
       "      <td>Medellín</td>\n",
       "      <td>1986</td>\n",
       "      <td>Cabecera Municipal</td>\n",
       "      <td>675600</td>\n",
       "      <td>746145</td>\n",
       "      <td>1421745</td>\n",
       "      <td>83710</td>\n",
       "      <td>...</td>\n",
       "      <td>102318</td>\n",
       "      <td>138621</td>\n",
       "      <td>278242</td>\n",
       "      <td>57081</td>\n",
       "      <td>171862</td>\n",
       "      <td>157617</td>\n",
       "      <td>196010</td>\n",
       "      <td>264991</td>\n",
       "      <td>528771</td>\n",
       "      <td>102494</td>\n",
       "    </tr>\n",
       "    <tr>\n",
       "      <th>4</th>\n",
       "      <td>5</td>\n",
       "      <td>Antioquia</td>\n",
       "      <td>5001</td>\n",
       "      <td>Medellín</td>\n",
       "      <td>1986</td>\n",
       "      <td>Centros Poblados y Rural Disperso</td>\n",
       "      <td>27669</td>\n",
       "      <td>28554</td>\n",
       "      <td>56223</td>\n",
       "      <td>3958</td>\n",
       "      <td>...</td>\n",
       "      <td>4180</td>\n",
       "      <td>5183</td>\n",
       "      <td>9957</td>\n",
       "      <td>1723</td>\n",
       "      <td>8126</td>\n",
       "      <td>6512</td>\n",
       "      <td>8057</td>\n",
       "      <td>9980</td>\n",
       "      <td>19919</td>\n",
       "      <td>3629</td>\n",
       "    </tr>\n",
       "  </tbody>\n",
       "</table>\n",
       "<p>5 rows × 27 columns</p>\n",
       "</div>"
      ],
      "text/plain": [
       "   DP      DPNOM  DPMP      MPIO   AÑO                    ÁREA GEOGRÁFICA  \\\n",
       "0   5  Antioquia  5001  Medellín  1985                 Cabecera Municipal   \n",
       "1   5  Antioquia  5001  Medellín  1985  Centros Poblados y Rural Disperso   \n",
       "2   5  Antioquia  5001  Medellín  1985                              Total   \n",
       "3   5  Antioquia  5001  Medellín  1986                 Cabecera Municipal   \n",
       "4   5  Antioquia  5001  Medellín  1986  Centros Poblados y Rural Disperso   \n",
       "\n",
       "   Total Hombres  Total Mujeres  Total General  HoPrimera_infancia  ...  \\\n",
       "0         664721         729143        1393864               82621  ...   \n",
       "1          27773          28540          56313                3984  ...   \n",
       "2         692494         757683        1450177               86605  ...   \n",
       "3         675600         746145        1421745               83710  ...   \n",
       "4          27669          28554          56223                3958  ...   \n",
       "\n",
       "   MuAdolescencia  MuJuventud  MuAdultez  MuPersona Mayor  ToPrimera_infancia  \\\n",
       "0          103934      135934     267197            55788              169451   \n",
       "1            4338        5214       9775             1705                8182   \n",
       "2          108272      141148     276972            57493              177633   \n",
       "3          102318      138621     278242            57081              171862   \n",
       "4            4180        5183       9957             1723                8126   \n",
       "\n",
       "   ToInfancia  ToAdolescencia  ToJuventud  ToAdultez  ToPersona Mayor  \n",
       "0      153434          199805      260460     510030           100684  \n",
       "1        6451            8388       10050      19633             3609  \n",
       "2      159885          208193      270510     529663           104293  \n",
       "3      157617          196010      264991     528771           102494  \n",
       "4        6512            8057        9980      19919             3629  \n",
       "\n",
       "[5 rows x 27 columns]"
      ]
     },
     "execution_count": 15,
     "metadata": {},
     "output_type": "execute_result"
    }
   ],
   "source": [
    "datos_completos.head()"
   ]
  },
  {
   "cell_type": "markdown",
   "metadata": {},
   "source": [
    "La información permite observar la existencia de infomración de 35 años de información, esta información se describe para 33 Departamento, 1040 Municipios, descrito por edad, área geográfica y género, a partir de esta base se realizará una descripción de la infomración agrupando los grupos etareos y haciendo diversas revisiones por Departamento, regiones y capitales para comprender la movilización social al interior del país.\n",
    "\n",
    "Para este caso se generó una agrupación etarea definida por el ministerio de Salud colombiana que establece los siguientes grupos etareos o de \"ciclo de vida\":\n",
    "\n",
    "- Ciclo de Vida\n",
    "- Familia.\n",
    "- Primera Infancia (0-5 años)\n",
    "- Infancia (6 - 11 años)\n",
    "- Adolescencia (12 - 18 años)\n",
    "- Juventud (14 - 26 años)\n",
    "- Adultez (27- 59 años)\n",
    "- Persona Mayor (60 años o mas) envejecimiento y vejez."
   ]
  },
  {
   "cell_type": "code",
   "execution_count": 18,
   "metadata": {},
   "outputs": [],
   "source": [
    "dftotal = datos_completos.loc[datos_completos['ÁREA GEOGRÁFICA'] == 'Total']"
   ]
  },
  {
   "cell_type": "markdown",
   "metadata": {},
   "source": [
    "### 2. Descripción general de la información disponible."
   ]
  },
  {
   "cell_type": "code",
   "execution_count": 19,
   "metadata": {},
   "outputs": [],
   "source": [
    "dftotal = pd.DataFrame(datos_completos)"
   ]
  },
  {
   "cell_type": "code",
   "execution_count": 20,
   "metadata": {},
   "outputs": [
    {
     "name": "stdout",
     "output_type": "stream",
     "text": [
      "Nombres de las columnas: Index(['DP', 'DPNOM', 'DPMP', 'MPIO', 'AÑO', 'ÁREA GEOGRÁFICA',\n",
      "       'Total Hombres', 'Total Mujeres', 'Total General', 'HoPrimera_infancia',\n",
      "       'HoInfancia', 'HoAdolescencia', 'HoJuventud', 'HoAdultez',\n",
      "       'HoPersona Mayor', 'MuPrimera_infancia', 'MuInfancia', 'MuAdolescencia',\n",
      "       'MuJuventud', 'MuAdultez', 'MuPersona Mayor', 'ToPrimera_infancia',\n",
      "       'ToInfancia', 'ToAdolescencia', 'ToJuventud', 'ToAdultez',\n",
      "       'ToPersona Mayor'],\n",
      "      dtype='object')\n"
     ]
    }
   ],
   "source": [
    "print(\"Nombres de las columnas:\", dftotal.columns)"
   ]
  },
  {
   "cell_type": "code",
   "execution_count": 21,
   "metadata": {},
   "outputs": [],
   "source": [
    "# Identificar las columnas para los grupos y las columnas para sumar\n",
    "columnas_para_grupos = ['DPNOM', 'MPIO', 'AÑO', 'ÁREA GEOGRÁFICA']\n",
    "columnas_para_sumar = ['Total Hombres', 'Total Mujeres', 'Total General', 'HoPrimera_infancia',\n",
    "       'HoInfancia', 'HoAdolescencia', 'HoJuventud', 'HoAdultez',\n",
    "       'HoPersona Mayor', 'MuPrimera_infancia', 'MuInfancia', 'MuAdolescencia',\n",
    "       'MuJuventud', 'MuAdultez', 'MuPersona Mayor', 'ToPrimera_infancia',\n",
    "       'ToInfancia', 'ToAdolescencia', 'ToJuventud', 'ToAdultez',\n",
    "       'ToPersona Mayor']"
   ]
  },
  {
   "cell_type": "code",
   "execution_count": 22,
   "metadata": {},
   "outputs": [],
   "source": [
    "# Lista para almacenar los DataFrames resultantes\n",
    "dfs_grupos = []"
   ]
  },
  {
   "cell_type": "code",
   "execution_count": 24,
   "metadata": {},
   "outputs": [],
   "source": [
    "# Filtro de ubicacion geográfica \n",
    "\n",
    "dftotal = dftotal[dftotal['ÁREA GEOGRÁFICA'] == 'Total']"
   ]
  },
  {
   "cell_type": "code",
   "execution_count": 25,
   "metadata": {},
   "outputs": [],
   "source": [
    "# DF para el país en temas generacionales\n",
    "agg_dict = {col: 'sum' for col in columnas_para_sumar}\n",
    "\n",
    "dfnaciongen = dftotal.groupby(['AÑO']).agg(agg_dict)"
   ]
  },
  {
   "cell_type": "code",
   "execution_count": 26,
   "metadata": {},
   "outputs": [],
   "source": [
    "# Piramide por año\n",
    "columnas_para_remover = ['HoPrimera_infancia',\n",
    "       'HoInfancia', 'HoAdolescencia', 'HoJuventud', 'HoAdultez',\n",
    "       'HoPersona Mayor', 'MuPrimera_infancia', 'MuInfancia', 'MuAdolescencia',\n",
    "       'MuJuventud', 'MuAdultez', 'MuPersona Mayor', 'ToPrimera_infancia',\n",
    "       'ToInfancia', 'ToAdolescencia', 'ToJuventud', 'ToAdultez',\n",
    "       'ToPersona Mayor', 'Total General']\n",
    "\n",
    "for col in columnas_para_remover:\n",
    "    del dfnaciongen[col]"
   ]
  },
  {
   "cell_type": "code",
   "execution_count": 27,
   "metadata": {},
   "outputs": [],
   "source": [
    "# Construcción de DF para Departamento\n",
    "agg_dict = {col: ['sum'] for col in columnas_para_sumar}\n",
    "\n",
    "# Realizar la agrupación y agregación\n",
    "dfdepartamento = dftotal.groupby(['DPNOM', 'AÑO']).agg(agg_dict)\n",
    "\n",
    "# Renombrar las columnas para reflejar las operaciones de agregación\n",
    "dfdepartamento.columns = ['_'.join(col).strip() for col in dfdepartamento.columns.values]\n",
    "\n",
    "dfdepartamento.reset_index(inplace=True)"
   ]
  }
 ],
 "metadata": {
  "kernelspec": {
   "display_name": "Python 3",
   "language": "python",
   "name": "python3"
  },
  "language_info": {
   "codemirror_mode": {
    "name": "ipython",
    "version": 3
   },
   "file_extension": ".py",
   "mimetype": "text/x-python",
   "name": "python",
   "nbconvert_exporter": "python",
   "pygments_lexer": "ipython3",
   "version": "3.9.6"
  }
 },
 "nbformat": 4,
 "nbformat_minor": 2
}
